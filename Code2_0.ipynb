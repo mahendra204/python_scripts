{
  "nbformat": 4,
  "nbformat_minor": 0,
  "metadata": {
    "colab": {
      "provenance": [],
      "authorship_tag": "ABX9TyOHwg+fLcbkpvwRf5D8g+by",
      "include_colab_link": true
    },
    "kernelspec": {
      "name": "python3",
      "display_name": "Python 3"
    },
    "language_info": {
      "name": "python"
    }
  },
  "cells": [
    {
      "cell_type": "markdown",
      "metadata": {
        "id": "view-in-github",
        "colab_type": "text"
      },
      "source": [
        "<a href=\"https://colab.research.google.com/github/mahendra204/python_scripts/blob/main/Code2_0.ipynb\" target=\"_parent\"><img src=\"https://colab.research.google.com/assets/colab-badge.svg\" alt=\"Open In Colab\"/></a>"
      ]
    },
    {
      "cell_type": "code",
      "execution_count": 1,
      "metadata": {
        "colab": {
          "base_uri": "https://localhost:8080/"
        },
        "id": "1YLIQyypipYK",
        "outputId": "eac68dad-4cde-49fe-c444-12f31bfe5bf4"
      },
      "outputs": [
        {
          "output_type": "stream",
          "name": "stdout",
          "text": [
            "* * * * * \n",
            "* * * * * \n",
            "* * * * * \n",
            "* * * * * \n",
            "* * * * * \n"
          ]
        }
      ],
      "source": [
        "for i in range(0,5):\n",
        "  for j in range(0,5):\n",
        "    print('*',end=\" \")\n",
        "  print(\"\")"
      ]
    },
    {
      "cell_type": "code",
      "source": [
        "for i in range(5):\n",
        "    for j in range(i+1):\n",
        "      print(\"*\",end=\" \")\n",
        "    print(\"\")"
      ],
      "metadata": {
        "colab": {
          "base_uri": "https://localhost:8080/"
        },
        "id": "Flm7brq1ll14",
        "outputId": "0ca29dd4-779d-4964-c1b0-6c7a58cfe5b0"
      },
      "execution_count": 2,
      "outputs": [
        {
          "output_type": "stream",
          "name": "stdout",
          "text": [
            "* \n",
            "* * \n",
            "* * * \n",
            "* * * * \n",
            "* * * * * \n"
          ]
        }
      ]
    },
    {
      "cell_type": "code",
      "source": [
        "def f(n):\n",
        "  for i in range(n):\n",
        "    for j in range(i+1):\n",
        "      print(\"*\",end=\" \")\n",
        "    print(\"\")"
      ],
      "metadata": {
        "id": "0AB2bUyIi1cz"
      },
      "execution_count": 3,
      "outputs": []
    },
    {
      "cell_type": "code",
      "source": [
        "f(10)"
      ],
      "metadata": {
        "colab": {
          "base_uri": "https://localhost:8080/"
        },
        "id": "TrV7sSPhi5VQ",
        "outputId": "fdbe43da-8154-4d15-e9d1-2f2bf558d0d7"
      },
      "execution_count": 4,
      "outputs": [
        {
          "output_type": "stream",
          "name": "stdout",
          "text": [
            "* \n",
            "* * \n",
            "* * * \n",
            "* * * * \n",
            "* * * * * \n",
            "* * * * * * \n",
            "* * * * * * * \n",
            "* * * * * * * * \n",
            "* * * * * * * * * \n",
            "* * * * * * * * * * \n"
          ]
        }
      ]
    },
    {
      "cell_type": "code",
      "source": [
        "for i in range(0,5):\n",
        "  for j in range(0,5):\n",
        "    print(i,end=\" \")\n",
        "  print(\"\")"
      ],
      "metadata": {
        "colab": {
          "base_uri": "https://localhost:8080/"
        },
        "id": "e2I6FG8WljbB",
        "outputId": "0db2ad56-e613-4086-d2ce-d55a1f83fbd6"
      },
      "execution_count": 5,
      "outputs": [
        {
          "output_type": "stream",
          "name": "stdout",
          "text": [
            "0 0 0 0 0 \n",
            "1 1 1 1 1 \n",
            "2 2 2 2 2 \n",
            "3 3 3 3 3 \n",
            "4 4 4 4 4 \n"
          ]
        }
      ]
    },
    {
      "cell_type": "code",
      "source": [
        "for i in range(0,5):\n",
        "  for j in range(0,5):\n",
        "    print(j,end=\" \")\n",
        "  print(\"\")"
      ],
      "metadata": {
        "colab": {
          "base_uri": "https://localhost:8080/"
        },
        "id": "E2fbg-ablwUv",
        "outputId": "1ca2c1b3-38de-4d1a-8c20-b1c9572085c3"
      },
      "execution_count": 6,
      "outputs": [
        {
          "output_type": "stream",
          "name": "stdout",
          "text": [
            "0 1 2 3 4 \n",
            "0 1 2 3 4 \n",
            "0 1 2 3 4 \n",
            "0 1 2 3 4 \n",
            "0 1 2 3 4 \n"
          ]
        }
      ]
    },
    {
      "cell_type": "code",
      "source": [
        "for i in range(5):\n",
        "    for j in range(i+1):\n",
        "      print(i,end=\" \")\n",
        "    print(\"\")"
      ],
      "metadata": {
        "colab": {
          "base_uri": "https://localhost:8080/"
        },
        "id": "hV9qOqDUlzPO",
        "outputId": "ecf930ff-fb05-4f6e-c956-6e5a96ab3c59"
      },
      "execution_count": 7,
      "outputs": [
        {
          "output_type": "stream",
          "name": "stdout",
          "text": [
            "0 \n",
            "1 1 \n",
            "2 2 2 \n",
            "3 3 3 3 \n",
            "4 4 4 4 4 \n"
          ]
        }
      ]
    },
    {
      "cell_type": "code",
      "source": [
        "for i in range(5):\n",
        "    for j in range(i+1):\n",
        "      print(j,end=\" \")\n",
        "    print(\"\")"
      ],
      "metadata": {
        "colab": {
          "base_uri": "https://localhost:8080/"
        },
        "id": "LimjvgrHl5I_",
        "outputId": "0bfa9f5a-c92f-4d52-bf5f-2c632956668f"
      },
      "execution_count": 78,
      "outputs": [
        {
          "output_type": "stream",
          "name": "stdout",
          "text": [
            "0 \n",
            "0 1 \n",
            "0 1 2 \n",
            "0 1 2 3 \n",
            "0 1 2 3 4 \n"
          ]
        }
      ]
    },
    {
      "cell_type": "code",
      "source": [
        "def f(n):\n",
        "  for i in range(n):\n",
        "    for j in range(n-i+1):\n",
        "      print(\"*\",end=\" \")\n",
        "    print(\"\")"
      ],
      "metadata": {
        "id": "cyO9Wz7Tl7l9"
      },
      "execution_count": 9,
      "outputs": []
    },
    {
      "cell_type": "code",
      "source": [
        "f(10)"
      ],
      "metadata": {
        "colab": {
          "base_uri": "https://localhost:8080/"
        },
        "id": "iH0uGuIEmyeX",
        "outputId": "f240abdf-6de3-45e5-f674-b31bf72da3c0"
      },
      "execution_count": 10,
      "outputs": [
        {
          "output_type": "stream",
          "name": "stdout",
          "text": [
            "* * * * * * * * * * * \n",
            "* * * * * * * * * * \n",
            "* * * * * * * * * \n",
            "* * * * * * * * \n",
            "* * * * * * * \n",
            "* * * * * * \n",
            "* * * * * \n",
            "* * * * \n",
            "* * * \n",
            "* * \n"
          ]
        }
      ]
    },
    {
      "cell_type": "code",
      "source": [
        "def f(n):\n",
        "  for i in range(n+1):\n",
        "    for j in range(n-i+1):\n",
        "      print(i,end=\" \")\n",
        "    print(\"\")"
      ],
      "metadata": {
        "id": "TuOg8mZ0m1JV"
      },
      "execution_count": 11,
      "outputs": []
    },
    {
      "cell_type": "code",
      "source": [
        "f(10)"
      ],
      "metadata": {
        "colab": {
          "base_uri": "https://localhost:8080/"
        },
        "id": "ZfO_oLYqnd0h",
        "outputId": "4d46db07-d5a9-4675-a774-e5bb0ce47c38"
      },
      "execution_count": 12,
      "outputs": [
        {
          "output_type": "stream",
          "name": "stdout",
          "text": [
            "0 0 0 0 0 0 0 0 0 0 0 \n",
            "1 1 1 1 1 1 1 1 1 1 \n",
            "2 2 2 2 2 2 2 2 2 \n",
            "3 3 3 3 3 3 3 3 \n",
            "4 4 4 4 4 4 4 \n",
            "5 5 5 5 5 5 \n",
            "6 6 6 6 6 \n",
            "7 7 7 7 \n",
            "8 8 8 \n",
            "9 9 \n",
            "10 \n"
          ]
        }
      ]
    },
    {
      "cell_type": "code",
      "source": [
        "def f(n):\n",
        "  for i in range(n+1):\n",
        "    for j in range(n-i+1):\n",
        "      print(j,end=\" \")\n",
        "    print(\"\")"
      ],
      "metadata": {
        "id": "svG6bRzPngIx"
      },
      "execution_count": 13,
      "outputs": []
    },
    {
      "cell_type": "code",
      "source": [
        "f(10)"
      ],
      "metadata": {
        "colab": {
          "base_uri": "https://localhost:8080/"
        },
        "id": "ZuaMrp8Hn4eH",
        "outputId": "567d775b-12e9-439c-d031-d6c852879889"
      },
      "execution_count": 14,
      "outputs": [
        {
          "output_type": "stream",
          "name": "stdout",
          "text": [
            "0 1 2 3 4 5 6 7 8 9 10 \n",
            "0 1 2 3 4 5 6 7 8 9 \n",
            "0 1 2 3 4 5 6 7 8 \n",
            "0 1 2 3 4 5 6 7 \n",
            "0 1 2 3 4 5 6 \n",
            "0 1 2 3 4 5 \n",
            "0 1 2 3 4 \n",
            "0 1 2 3 \n",
            "0 1 2 \n",
            "0 1 \n",
            "0 \n"
          ]
        }
      ]
    },
    {
      "cell_type": "code",
      "source": [
        "def f(n):\n",
        "  for i in range(1,n+1):\n",
        "    for j in range(1,n-i+1):\n",
        "      print(j,end=\" \")\n",
        "    print(\"\")"
      ],
      "metadata": {
        "id": "in57b9W1n5pU"
      },
      "execution_count": 15,
      "outputs": []
    },
    {
      "cell_type": "code",
      "source": [
        "f(10)"
      ],
      "metadata": {
        "colab": {
          "base_uri": "https://localhost:8080/"
        },
        "id": "HrGPl6dloNxy",
        "outputId": "69548ed7-bf3a-4453-e1ce-63abb64af264"
      },
      "execution_count": 16,
      "outputs": [
        {
          "output_type": "stream",
          "name": "stdout",
          "text": [
            "1 2 3 4 5 6 7 8 9 \n",
            "1 2 3 4 5 6 7 8 \n",
            "1 2 3 4 5 6 7 \n",
            "1 2 3 4 5 6 \n",
            "1 2 3 4 5 \n",
            "1 2 3 4 \n",
            "1 2 3 \n",
            "1 2 \n",
            "1 \n",
            "\n"
          ]
        }
      ]
    },
    {
      "cell_type": "code",
      "source": [
        "def f(n):\n",
        "  for i in range(n):\n",
        "    for j in range(n-i-1):\n",
        "      print(\" \",end=\"\")\n",
        "    for j in range(2*i+1):\n",
        "      print(\"*\",end=\"\")\n",
        "    print()"
      ],
      "metadata": {
        "id": "O2-mv-nXoOwp"
      },
      "execution_count": 64,
      "outputs": []
    },
    {
      "cell_type": "code",
      "source": [
        "f(5)"
      ],
      "metadata": {
        "id": "EhSXVrvL0KS8",
        "colab": {
          "base_uri": "https://localhost:8080/"
        },
        "outputId": "6a469f9c-db5b-46d7-c7c2-ff780e558a2c"
      },
      "execution_count": 65,
      "outputs": [
        {
          "output_type": "stream",
          "name": "stdout",
          "text": [
            "    *\n",
            "   ***\n",
            "  *****\n",
            " *******\n",
            "*********\n"
          ]
        }
      ]
    },
    {
      "cell_type": "code",
      "source": [
        "def f(n):\n",
        "  for i in range(n-1,-1,-1):\n",
        "    for j in range(n-i-1):\n",
        "      print(\" \",end=\"\")\n",
        "    for j in range(2*i+1):\n",
        "      print(\"*\",end=\"\")\n",
        "    print()\n",
        "f(5)"
      ],
      "metadata": {
        "colab": {
          "base_uri": "https://localhost:8080/"
        },
        "id": "-aSQm1GcGxE4",
        "outputId": "27922226-64e5-4aed-e1ad-593bdaad06e5"
      },
      "execution_count": 102,
      "outputs": [
        {
          "output_type": "stream",
          "name": "stdout",
          "text": [
            "*********\n",
            " *******\n",
            "  *****\n",
            "   ***\n",
            "    *\n"
          ]
        }
      ]
    },
    {
      "cell_type": "code",
      "source": [
        "def f(n):\n",
        "  for i in range(n):\n",
        "    for j in range(n-i-1):\n",
        "      print(\" \",end=\"\")\n",
        "    for j in range(2*i+1):\n",
        "      print(i,end=\"\")\n",
        "    print()"
      ],
      "metadata": {
        "id": "QblN7m17-aXm"
      },
      "execution_count": 68,
      "outputs": []
    },
    {
      "cell_type": "code",
      "source": [
        "f(5)"
      ],
      "metadata": {
        "colab": {
          "base_uri": "https://localhost:8080/"
        },
        "id": "ygW5Kx-T-f53",
        "outputId": "6caaca0f-ebc0-44f0-ad08-b9441b98ae0d"
      },
      "execution_count": 69,
      "outputs": [
        {
          "output_type": "stream",
          "name": "stdout",
          "text": [
            "    0\n",
            "   111\n",
            "  22222\n",
            " 3333333\n",
            "444444444\n"
          ]
        }
      ]
    },
    {
      "cell_type": "code",
      "source": [
        "def f(n):\n",
        "  for i in range(n):\n",
        "    for j in range(n-i-1):\n",
        "      print(\" \",end=\"\")\n",
        "    for j in range(2*i+1):\n",
        "      print(j,end=\"\")\n",
        "    print()\n",
        "f(5)"
      ],
      "metadata": {
        "colab": {
          "base_uri": "https://localhost:8080/"
        },
        "id": "5dgcG5iG-vij",
        "outputId": "83903a12-d0ce-4c51-e215-51c7451c6e4c"
      },
      "execution_count": 74,
      "outputs": [
        {
          "output_type": "stream",
          "name": "stdout",
          "text": [
            "    0\n",
            "   012\n",
            "  01234\n",
            " 0123456\n",
            "012345678\n"
          ]
        }
      ]
    },
    {
      "cell_type": "code",
      "source": [
        "def f(n):\n",
        "  for i in range(n):\n",
        "    for j in range(n-i-1):\n",
        "      print(\"  \",end=\"\")\n",
        "    for j in range(2*i+1):\n",
        "      print(j,end=\"\")\n",
        "    print()\n",
        "f(5)"
      ],
      "metadata": {
        "colab": {
          "base_uri": "https://localhost:8080/"
        },
        "id": "OQx7FAYE_AVc",
        "outputId": "20f942d5-42c6-4d6f-c86b-c0dea283548d"
      },
      "execution_count": 75,
      "outputs": [
        {
          "output_type": "stream",
          "name": "stdout",
          "text": [
            "        0\n",
            "      012\n",
            "    01234\n",
            "  0123456\n",
            "012345678\n"
          ]
        }
      ]
    },
    {
      "cell_type": "code",
      "source": [
        "def f(n):\n",
        "  for i in range(n):\n",
        "    for j in range(n-i-1):\n",
        "      print(\" \",end=\"\")\n",
        "    for j in range(2*i+1):\n",
        "      if j%2==0:\n",
        "        print(\"*\",end=\"\")\n",
        "      else:\n",
        "        print(\" \",end=\"\")\n",
        "    for j in range(n-i-1):\n",
        "      print(\" \",end=\"\")\n",
        "    print()"
      ],
      "metadata": {
        "id": "SJs6pgnAyg85"
      },
      "execution_count": 66,
      "outputs": []
    },
    {
      "cell_type": "code",
      "source": [
        "f(5)"
      ],
      "metadata": {
        "colab": {
          "base_uri": "https://localhost:8080/"
        },
        "id": "wlR2vL3r-KxI",
        "outputId": "96c2e0be-b540-4c5a-fa1b-4ec920b5ac98"
      },
      "execution_count": 67,
      "outputs": [
        {
          "output_type": "stream",
          "name": "stdout",
          "text": [
            "    *    \n",
            "   * *   \n",
            "  * * *  \n",
            " * * * * \n",
            "* * * * *\n"
          ]
        }
      ]
    },
    {
      "cell_type": "code",
      "source": [
        "def f(n):\n",
        "  for i in range(n):\n",
        "    for j in range(n-i-1):\n",
        "      print(\" \",end=\"\")\n",
        "    for j in range(2*i+1):\n",
        "      if j%2==0:\n",
        "        print(i,end=\"\")\n",
        "      else:\n",
        "        print(\" \",end=\"\")\n",
        "    for j in range(n-i-1):\n",
        "      print(\" \",end=\"\")\n",
        "    print()"
      ],
      "metadata": {
        "id": "94lwgCno_mfQ"
      },
      "execution_count": 80,
      "outputs": []
    },
    {
      "cell_type": "code",
      "source": [
        "f(5)"
      ],
      "metadata": {
        "colab": {
          "base_uri": "https://localhost:8080/"
        },
        "id": "fVebZkH2-nE-",
        "outputId": "8411ef54-ef3f-4ce2-8f71-6363e81676a0"
      },
      "execution_count": 81,
      "outputs": [
        {
          "output_type": "stream",
          "name": "stdout",
          "text": [
            "    0    \n",
            "   1 1   \n",
            "  2 2 2  \n",
            " 3 3 3 3 \n",
            "4 4 4 4 4\n"
          ]
        }
      ]
    },
    {
      "cell_type": "code",
      "source": [
        "def f(n):\n",
        "  for i in range(n):\n",
        "    for j in range(n-i-1):\n",
        "      print(\" \",end=\"\")\n",
        "    for j in range(2*i+1):\n",
        "      if j%2==0:\n",
        "        print(j,end=\"\")\n",
        "      else:\n",
        "        print(\" \",end=\"\")\n",
        "    for j in range(n-i-1):\n",
        "      print(\" \",end=\"\")\n",
        "    print()\n",
        "f(5)"
      ],
      "metadata": {
        "id": "sS6Uu-ol-Mit",
        "colab": {
          "base_uri": "https://localhost:8080/"
        },
        "outputId": "5ad65f16-80b3-4a28-f904-83fba5a8e426"
      },
      "execution_count": 85,
      "outputs": [
        {
          "output_type": "stream",
          "name": "stdout",
          "text": [
            "    0    \n",
            "   0 2   \n",
            "  0 2 4  \n",
            " 0 2 4 6 \n",
            "0 2 4 6 8\n"
          ]
        }
      ]
    },
    {
      "cell_type": "code",
      "source": [
        "def f(n):\n",
        "  for i in range(n):\n",
        "    for j in range(n-i-1):\n",
        "      print(\" \",end=\"\")\n",
        "    for j in range(2*i+1):\n",
        "      if j%2!=0:\n",
        "        print(j,end=\"\")\n",
        "      else:\n",
        "        print('*',end=\"\")\n",
        "    for j in range(n-i-1):\n",
        "      print(\" \",end=\"\")\n",
        "    print()\n",
        "f(6)"
      ],
      "metadata": {
        "colab": {
          "base_uri": "https://localhost:8080/"
        },
        "id": "0eMlqqVM_jBy",
        "outputId": "06f63f37-bdcd-4a91-8f32-767442a36dbc"
      },
      "execution_count": 92,
      "outputs": [
        {
          "output_type": "stream",
          "name": "stdout",
          "text": [
            "     *     \n",
            "    *1*    \n",
            "   *1*3*   \n",
            "  *1*3*5*  \n",
            " *1*3*5*7* \n",
            "*1*3*5*7*9*\n"
          ]
        }
      ]
    },
    {
      "cell_type": "code",
      "source": [
        "def f(n):\n",
        "  for i in range(n):\n",
        "    for j in range(n-i-1):\n",
        "      print(\" \",end=\"\")\n",
        "    for j in range(2*i+1):\n",
        "      if j%2==0:\n",
        "        print(j,end=\"\")\n",
        "      else:\n",
        "        print('*',end=\"\")\n",
        "    for j in range(n-i-1):\n",
        "      print(\" \",end=\"\")\n",
        "    print()\n",
        "f(6)"
      ],
      "metadata": {
        "colab": {
          "base_uri": "https://localhost:8080/"
        },
        "id": "hS01RUpyAGPo",
        "outputId": "2d680d86-9f22-4d15-8693-5a6332efab67"
      },
      "execution_count": 94,
      "outputs": [
        {
          "output_type": "stream",
          "name": "stdout",
          "text": [
            "     0     \n",
            "    0*2    \n",
            "   0*2*4   \n",
            "  0*2*4*6  \n",
            " 0*2*4*6*8 \n",
            "0*2*4*6*8*10\n"
          ]
        }
      ]
    },
    {
      "cell_type": "code",
      "source": [
        "def f(n):\n",
        "    for i in range(n-1, -1, -1):\n",
        "        for j in range(n - i - 1):\n",
        "            print(\" \", end=\"\")\n",
        "        for j in range(2 * i + 1):\n",
        "            if j % 2 == 0:\n",
        "                print(\"*\", end=\"\")\n",
        "            else:\n",
        "                print(\" \", end=\"\")\n",
        "        for j in range(n - i - 1):\n",
        "            print(\" \", end=\"\")\n",
        "        print()\n",
        "f(9)\n"
      ],
      "metadata": {
        "colab": {
          "base_uri": "https://localhost:8080/"
        },
        "id": "Ls4fx_n4D0WV",
        "outputId": "25c70fe2-5af5-49e7-b571-12b56c865b8a"
      },
      "execution_count": 98,
      "outputs": [
        {
          "output_type": "stream",
          "name": "stdout",
          "text": [
            "* * * * * * * * *\n",
            " * * * * * * * * \n",
            "  * * * * * * *  \n",
            "   * * * * * *   \n",
            "    * * * * *    \n",
            "     * * * *     \n",
            "      * * *      \n",
            "       * *       \n",
            "        *        \n"
          ]
        }
      ]
    },
    {
      "cell_type": "code",
      "source": [
        "def f(n):\n",
        "  for i in range(n-1,-1,-1):\n",
        "    for j in range(n-i-1):\n",
        "      print(\" \",end=\"\")\n",
        "    for j in range(2*i+1):\n",
        "      print(i,end=\"\")\n",
        "    print()\n",
        "f(5)"
      ],
      "metadata": {
        "colab": {
          "base_uri": "https://localhost:8080/"
        },
        "id": "4hgsWNv8FE7o",
        "outputId": "bac6d4fb-38d6-49ea-ac6e-8ade39572e90"
      },
      "execution_count": 103,
      "outputs": [
        {
          "output_type": "stream",
          "name": "stdout",
          "text": [
            "444444444\n",
            " 3333333\n",
            "  22222\n",
            "   111\n",
            "    0\n"
          ]
        }
      ]
    },
    {
      "cell_type": "code",
      "source": [
        "def f(n):\n",
        "  for i in range(n-1,-1,-1):\n",
        "    for j in range(n-i-1):\n",
        "      print(\" \",end=\"\")\n",
        "    for j in range(2*i+1):\n",
        "      print(j,end=\"\")\n",
        "    print()\n",
        "f(5)"
      ],
      "metadata": {
        "colab": {
          "base_uri": "https://localhost:8080/"
        },
        "id": "eKoRuL2XGmdb",
        "outputId": "e9667ffb-5fd3-4272-fe43-f358ebae0663"
      },
      "execution_count": 104,
      "outputs": [
        {
          "output_type": "stream",
          "name": "stdout",
          "text": [
            "012345678\n",
            " 0123456\n",
            "  01234\n",
            "   012\n",
            "    0\n"
          ]
        }
      ]
    },
    {
      "cell_type": "code",
      "source": [
        "def f(n):\n",
        "    for i in range(n-1, -1, -1):\n",
        "        for j in range(n - i - 1):\n",
        "            print(\" \", end=\"\")\n",
        "        for j in range(2 * i + 1):\n",
        "            if j % 2 == 0:\n",
        "                print(i, end=\"\")\n",
        "            else:\n",
        "                print(\" \", end=\"\")\n",
        "        for j in range(n - i - 1):\n",
        "            print(\" \", end=\"\")\n",
        "        print()\n",
        "f(5)"
      ],
      "metadata": {
        "colab": {
          "base_uri": "https://localhost:8080/"
        },
        "id": "o9DmR6_YGnjo",
        "outputId": "d5393551-3185-4bf1-f2b3-7de079df88c4"
      },
      "execution_count": 112,
      "outputs": [
        {
          "output_type": "stream",
          "name": "stdout",
          "text": [
            "4 4 4 4 4\n",
            " 3 3 3 3 \n",
            "  2 2 2  \n",
            "   1 1   \n",
            "    0    \n"
          ]
        }
      ]
    },
    {
      "cell_type": "code",
      "source": [
        "def f(n):\n",
        "    for i in range(n-1, -1, -1):\n",
        "        for j in range(n - i - 1):\n",
        "            print(\" \", end=\"\")\n",
        "        for j in range(2 * i + 1):\n",
        "            if j % 2 == 0:\n",
        "                print(j, end=\"\")\n",
        "            else:\n",
        "                print(\" \", end=\"\")\n",
        "        for j in range(n - i - 1):\n",
        "            print(\" \", end=\"\")\n",
        "        print()\n",
        "f(5)"
      ],
      "metadata": {
        "colab": {
          "base_uri": "https://localhost:8080/"
        },
        "id": "K9_4tgKqHLrx",
        "outputId": "9f327ed8-ba61-4905-aeee-a1ad33323e95"
      },
      "execution_count": 113,
      "outputs": [
        {
          "output_type": "stream",
          "name": "stdout",
          "text": [
            "0 2 4 6 8\n",
            " 0 2 4 6 \n",
            "  0 2 4  \n",
            "   0 2   \n",
            "    0    \n"
          ]
        }
      ]
    },
    {
      "cell_type": "code",
      "source": [
        "def f(n):\n",
        "    for i in range(n-1, -1, -1):\n",
        "        for j in range(n - i - 1):\n",
        "            print(\" \", end=\"\")\n",
        "        for j in range(2 * i + 1):\n",
        "            if j % 2 == 0:\n",
        "                print(\" \", end=\"\")\n",
        "            else:\n",
        "                print(j, end=\"\")\n",
        "        for j in range(n - i - 1):\n",
        "            print(\" \", end=\"\")\n",
        "        print()\n",
        "f(5)"
      ],
      "metadata": {
        "colab": {
          "base_uri": "https://localhost:8080/"
        },
        "id": "nyIkvaRXHhTq",
        "outputId": "51f8f2a1-0b09-443b-809f-04c53d47d87b"
      },
      "execution_count": 114,
      "outputs": [
        {
          "output_type": "stream",
          "name": "stdout",
          "text": [
            " 1 3 5 7 \n",
            "  1 3 5  \n",
            "   1 3   \n",
            "    1    \n",
            "         \n"
          ]
        }
      ]
    },
    {
      "cell_type": "code",
      "source": [
        "def f(n):\n",
        "    for i in range(n-1, -1, -1):\n",
        "        for j in range(n - i - 1):\n",
        "            print(\" \", end=\"\")\n",
        "        for j in range(2 * i + 1):\n",
        "            if j % 2 == 0:\n",
        "                print(\"*\", end=\"\")\n",
        "            else:\n",
        "                print(j, end=\"\")\n",
        "        for j in range(n - i - 1):\n",
        "            print(\" \", end=\"\")\n",
        "        print()\n",
        "f(5)"
      ],
      "metadata": {
        "colab": {
          "base_uri": "https://localhost:8080/"
        },
        "id": "K22tpSk0Hk7y",
        "outputId": "58e71b30-15de-4d78-f10b-b8bc9e8d9a8f"
      },
      "execution_count": 115,
      "outputs": [
        {
          "output_type": "stream",
          "name": "stdout",
          "text": [
            "*1*3*5*7*\n",
            " *1*3*5* \n",
            "  *1*3*  \n",
            "   *1*   \n",
            "    *    \n"
          ]
        }
      ]
    },
    {
      "cell_type": "code",
      "source": [
        "def f(n):\n",
        "    for i in range(n-1, -1, -1):\n",
        "        for j in range(n - i - 1):\n",
        "            print(\" \", end=\"\")\n",
        "        for j in range(2 * i + 1):\n",
        "            if j % 2 == 0:\n",
        "                print(j, end=\"\")\n",
        "            else:\n",
        "                print(\"*\", end=\"\")\n",
        "        for j in range(n - i - 1):\n",
        "            print(\" \", end=\"\")\n",
        "        print()\n",
        "f(5)"
      ],
      "metadata": {
        "colab": {
          "base_uri": "https://localhost:8080/"
        },
        "id": "gO99XBDLHu9w",
        "outputId": "93aad600-b6cf-4031-fdd8-435f50dff58c"
      },
      "execution_count": 117,
      "outputs": [
        {
          "output_type": "stream",
          "name": "stdout",
          "text": [
            "0*2*4*6*8\n",
            " 0*2*4*6 \n",
            "  0*2*4  \n",
            "   0*2   \n",
            "    0    \n"
          ]
        }
      ]
    },
    {
      "cell_type": "code",
      "source": [
        "def f(n):\n",
        "  for i in range(n):\n",
        "    for j in range(n-i-1):\n",
        "      print(\" \",end=\" \")\n",
        "    for j in range(2*i+1):\n",
        "      print(\"*\",end=\" \")\n",
        "    print()\n",
        "  for i in range(n-1,-1,-1):\n",
        "    for j in range(n-i-1):\n",
        "      print(\" \",end=\" \")\n",
        "    for j in range(2*i+1):\n",
        "      print(\"*\",end=\" \")\n",
        "    print()\n",
        "f(5)"
      ],
      "metadata": {
        "colab": {
          "base_uri": "https://localhost:8080/"
        },
        "id": "o_CKl89mH1Qm",
        "outputId": "086bed32-c91a-44a1-b5ed-39350452c351"
      },
      "execution_count": 127,
      "outputs": [
        {
          "output_type": "stream",
          "name": "stdout",
          "text": [
            "        * \n",
            "      * * * \n",
            "    * * * * * \n",
            "  * * * * * * * \n",
            "* * * * * * * * * \n",
            "* * * * * * * * * \n",
            "  * * * * * * * \n",
            "    * * * * * \n",
            "      * * * \n",
            "        * \n"
          ]
        }
      ]
    },
    {
      "cell_type": "code",
      "source": [
        "def f(n):\n",
        "  for i in range(n):\n",
        "    for j in range(n-i-1):\n",
        "      print(\" \",end=\" \")\n",
        "    for j in range(2*i+1):\n",
        "      print(\"*\",end=\" \")\n",
        "    print()\n",
        "  for i in range(n-2,-1,-1):\n",
        "    for j in range(n-i-1):\n",
        "      print(\" \",end=\" \")\n",
        "    for j in range(2*i+1):\n",
        "      print(\"*\",end=\" \")\n",
        "    print()\n",
        "f(5)"
      ],
      "metadata": {
        "colab": {
          "base_uri": "https://localhost:8080/"
        },
        "id": "tl3W82COIbve",
        "outputId": "c78d596a-848e-478e-b530-e9101d615f4e"
      },
      "execution_count": 131,
      "outputs": [
        {
          "output_type": "stream",
          "name": "stdout",
          "text": [
            "        * \n",
            "      * * * \n",
            "    * * * * * \n",
            "  * * * * * * * \n",
            "* * * * * * * * * \n",
            "  * * * * * * * \n",
            "    * * * * * \n",
            "      * * * \n",
            "        * \n"
          ]
        }
      ]
    },
    {
      "cell_type": "code",
      "source": [
        "def f(n):\n",
        "  for i in range(n):\n",
        "    for j in range(n-i-1):\n",
        "      print(\" \",end=\" \")\n",
        "    for j in range(2*i+1):\n",
        "      print(\"*\",end=\" \")\n",
        "    print()\n",
        "  for i in range(n-2,-1,-1):\n",
        "    for j in range(n-i-1):\n",
        "      print(\" \",end=\" \")\n",
        "    for j in range(2*i+1):\n",
        "      print(\"*\",end=\"\")\n",
        "    print()\n",
        "f(5)"
      ],
      "metadata": {
        "colab": {
          "base_uri": "https://localhost:8080/"
        },
        "id": "LLqdAp-9Iy4v",
        "outputId": "318ab4ac-4da9-49fb-c823-c3f0f5cc489e"
      },
      "execution_count": 138,
      "outputs": [
        {
          "output_type": "stream",
          "name": "stdout",
          "text": [
            "        * \n",
            "      * * * \n",
            "    * * * * * \n",
            "  * * * * * * * \n",
            "* * * * * * * * * \n",
            "  *******\n",
            "    *****\n",
            "      ***\n",
            "        *\n"
          ]
        }
      ]
    },
    {
      "cell_type": "code",
      "source": [
        "def f(n):\n",
        "  for i in range(n):\n",
        "    for j in range(n-i-1):\n",
        "      print(\" \",end=\" \")\n",
        "    for j in range(2*i+1):\n",
        "      print(\"*\",end=\"\")\n",
        "    print()\n",
        "  for i in range(n-2,-1,-1):\n",
        "    for j in range(n-i-1):\n",
        "      print(\" \",end=\" \")\n",
        "    for j in range(2*i+1):\n",
        "      print(\"*\",end=\" \")\n",
        "    print()\n",
        "f(5)"
      ],
      "metadata": {
        "colab": {
          "base_uri": "https://localhost:8080/"
        },
        "id": "DY5TL97rJiTq",
        "outputId": "20aa2515-6ace-4688-c4b2-bdb794ab5874"
      },
      "execution_count": 134,
      "outputs": [
        {
          "output_type": "stream",
          "name": "stdout",
          "text": [
            "        *\n",
            "      ***\n",
            "    *****\n",
            "  *******\n",
            "*********\n",
            "  * * * * * * * \n",
            "    * * * * * \n",
            "      * * * \n",
            "        * \n"
          ]
        }
      ]
    },
    {
      "cell_type": "code",
      "source": [
        "def f(n):\n",
        "  for i in range(n):\n",
        "    for j in range(i+1):\n",
        "      print(\"*\",end=\"\")\n",
        "    print()\n",
        "  for i in range(n-1,-1,-1):\n",
        "    for j in range(i+1):\n",
        "      print(\"*\",end=\"\")\n",
        "    print()\n",
        "f(5)"
      ],
      "metadata": {
        "colab": {
          "base_uri": "https://localhost:8080/"
        },
        "id": "COI6IdhQJzm4",
        "outputId": "e19005f5-02d5-46ff-a1c6-79ba6ca7a5ab"
      },
      "execution_count": 152,
      "outputs": [
        {
          "output_type": "stream",
          "name": "stdout",
          "text": [
            "*\n",
            "**\n",
            "***\n",
            "****\n",
            "*****\n",
            "*****\n",
            "****\n",
            "***\n",
            "**\n",
            "*\n"
          ]
        }
      ]
    },
    {
      "cell_type": "code",
      "source": [
        "def f(n):\n",
        "  for i in range(n):\n",
        "    for j in range(i+1):\n",
        "      print(i,end=\"\")\n",
        "    print()\n",
        "  for i in range(n-1,-1,-1):\n",
        "    for j in range(i+1):\n",
        "      print(i,end=\"\")\n",
        "    print()\n",
        "f(5)"
      ],
      "metadata": {
        "colab": {
          "base_uri": "https://localhost:8080/"
        },
        "id": "TdXHGBMsK8Vl",
        "outputId": "04ea0506-6b73-4a12-c843-51fa27e72e83"
      },
      "execution_count": 153,
      "outputs": [
        {
          "output_type": "stream",
          "name": "stdout",
          "text": [
            "0\n",
            "11\n",
            "222\n",
            "3333\n",
            "44444\n",
            "44444\n",
            "3333\n",
            "222\n",
            "11\n",
            "0\n"
          ]
        }
      ]
    },
    {
      "cell_type": "code",
      "source": [
        "def f(n):\n",
        "  for i in range(n):\n",
        "    for j in range(i+1):\n",
        "      print(i,end=\"\")\n",
        "    print()\n",
        "  for i in range(n-1,-1,-1):\n",
        "    for j in range(i+1):\n",
        "      print(j,end=\"\")\n",
        "    print()\n",
        "f(5)"
      ],
      "metadata": {
        "colab": {
          "base_uri": "https://localhost:8080/"
        },
        "id": "zDMBHp1QMNl-",
        "outputId": "18b06864-d5b8-49aa-bfc1-908bc2668191"
      },
      "execution_count": 154,
      "outputs": [
        {
          "output_type": "stream",
          "name": "stdout",
          "text": [
            "0\n",
            "11\n",
            "222\n",
            "3333\n",
            "44444\n",
            "01234\n",
            "0123\n",
            "012\n",
            "01\n",
            "0\n"
          ]
        }
      ]
    },
    {
      "cell_type": "code",
      "source": [
        "def f(n):\n",
        "  for i in range(n):\n",
        "    for j in range(i+1):\n",
        "      print(j,end=\"\")\n",
        "    print()\n",
        "  for i in range(n-1,-1,-1):\n",
        "    for j in range(i+1):\n",
        "      print(j,end=\"\")\n",
        "    print()\n",
        "f(5)"
      ],
      "metadata": {
        "colab": {
          "base_uri": "https://localhost:8080/"
        },
        "id": "Ep2ykxzZMRkU",
        "outputId": "da5b0168-e9f3-4263-f02f-973a1f2a5a3d"
      },
      "execution_count": 155,
      "outputs": [
        {
          "output_type": "stream",
          "name": "stdout",
          "text": [
            "0\n",
            "01\n",
            "012\n",
            "0123\n",
            "01234\n",
            "01234\n",
            "0123\n",
            "012\n",
            "01\n",
            "0\n"
          ]
        }
      ]
    },
    {
      "cell_type": "code",
      "source": [
        "def f(n):\n",
        "  for i in range(n):\n",
        "    for j in range(i+1):\n",
        "      print(\"*\",end=\"\")\n",
        "    print()\n",
        "  for i in range(n-2,-1,-1):\n",
        "    for j in range(i+1):\n",
        "      print(\"*\",end=\"\")\n",
        "    print()\n",
        "f(5)"
      ],
      "metadata": {
        "colab": {
          "base_uri": "https://localhost:8080/"
        },
        "id": "_NuNqqQ4MVjR",
        "outputId": "dad06840-04f6-4303-e0d0-b02a7daaf9ff"
      },
      "execution_count": 156,
      "outputs": [
        {
          "output_type": "stream",
          "name": "stdout",
          "text": [
            "*\n",
            "**\n",
            "***\n",
            "****\n",
            "*****\n",
            "****\n",
            "***\n",
            "**\n",
            "*\n"
          ]
        }
      ]
    },
    {
      "cell_type": "code",
      "source": [
        "def f(n):\n",
        "  for i in range(n):\n",
        "    for j in range(i+1):\n",
        "      print(i,end=\"\")\n",
        "    print()\n",
        "  for i in range(n-2,-1,-1):\n",
        "    for j in range(i+1):\n",
        "      print(i,end=\"\")\n",
        "    print()\n",
        "f(5)"
      ],
      "metadata": {
        "colab": {
          "base_uri": "https://localhost:8080/"
        },
        "id": "w4JU9bNzMYkc",
        "outputId": "bb5ef6dc-a051-4cd2-f898-621b94d70538"
      },
      "execution_count": 157,
      "outputs": [
        {
          "output_type": "stream",
          "name": "stdout",
          "text": [
            "0\n",
            "11\n",
            "222\n",
            "3333\n",
            "44444\n",
            "3333\n",
            "222\n",
            "11\n",
            "0\n"
          ]
        }
      ]
    },
    {
      "cell_type": "code",
      "source": [
        "def f(n):\n",
        "  for i in range(n):\n",
        "    for j in range(i+1):\n",
        "      print(j,end=\"\")\n",
        "    print()\n",
        "  for i in range(n-2,-1,-1):\n",
        "    for j in range(i+1):\n",
        "      print(j,end=\"\")\n",
        "    print()\n",
        "f(5)"
      ],
      "metadata": {
        "colab": {
          "base_uri": "https://localhost:8080/"
        },
        "id": "u0Ie5hMKMggN",
        "outputId": "38577fe8-094f-4dab-c46d-61ba248fc567"
      },
      "execution_count": 158,
      "outputs": [
        {
          "output_type": "stream",
          "name": "stdout",
          "text": [
            "0\n",
            "01\n",
            "012\n",
            "0123\n",
            "01234\n",
            "0123\n",
            "012\n",
            "01\n",
            "0\n"
          ]
        }
      ]
    },
    {
      "cell_type": "code",
      "source": [
        "def f(n):\n",
        "  for i in range(n):\n",
        "    for j in range(i+1):\n",
        "      print(\"*\",end=\" \")\n",
        "    print()\n",
        "  for i in range(n-2,-1,-1):\n",
        "    for j in range(i+1):\n",
        "      print(\"*\",end=\" \")\n",
        "    print()\n",
        "f(5)"
      ],
      "metadata": {
        "colab": {
          "base_uri": "https://localhost:8080/"
        },
        "id": "z5I-1A6HMjsv",
        "outputId": "6e1b6a6d-a0b2-4bc5-c138-53ffdb606956"
      },
      "execution_count": 161,
      "outputs": [
        {
          "output_type": "stream",
          "name": "stdout",
          "text": [
            "* \n",
            "* * \n",
            "* * * \n",
            "* * * * \n",
            "* * * * * \n",
            "* * * * \n",
            "* * * \n",
            "* * \n",
            "* \n"
          ]
        }
      ]
    },
    {
      "cell_type": "code",
      "source": [
        "def f(n):\n",
        "  for i in range(n):\n",
        "    for j in range(i+1):\n",
        "      if j%2==0:\n",
        "        print(\"1\",end=\"\")\n",
        "      else:\n",
        "        print(\"0\",end=\"\")\n",
        "    print()"
      ],
      "metadata": {
        "id": "00uM23lCMnk9"
      },
      "execution_count": 164,
      "outputs": []
    },
    {
      "cell_type": "code",
      "source": [
        "f(5)"
      ],
      "metadata": {
        "colab": {
          "base_uri": "https://localhost:8080/"
        },
        "id": "rxg-xoWHNsmy",
        "outputId": "f692c0b4-37c7-423e-ecfc-4f77cc4ce073"
      },
      "execution_count": 165,
      "outputs": [
        {
          "output_type": "stream",
          "name": "stdout",
          "text": [
            "1\n",
            "10\n",
            "101\n",
            "1010\n",
            "10101\n"
          ]
        }
      ]
    },
    {
      "cell_type": "code",
      "source": [
        "def f(n):\n",
        "  for i in range(n):\n",
        "    for j in range(i+1):\n",
        "      if i%2==0:\n",
        "        print(\"1\",end=\"\")\n",
        "      else:\n",
        "        print(\"0\",end=\"\")\n",
        "    print()\n",
        "f(5)"
      ],
      "metadata": {
        "colab": {
          "base_uri": "https://localhost:8080/"
        },
        "id": "ymnZILaZNzoa",
        "outputId": "f98229c5-0c76-4c6d-e5f8-8cdaa415f0b9"
      },
      "execution_count": 170,
      "outputs": [
        {
          "output_type": "stream",
          "name": "stdout",
          "text": [
            "1\n",
            "00\n",
            "111\n",
            "0000\n",
            "11111\n"
          ]
        }
      ]
    },
    {
      "cell_type": "code",
      "source": [
        "def f(n):\n",
        "    for i in range(1, n+1):\n",
        "        for j in range(1, i+1):\n",
        "            if (i + j) % 2 == 0:\n",
        "                print(\"1\", end=\"\")\n",
        "            else:\n",
        "                print(\"0\", end=\"\")\n",
        "        print()\n",
        "f(5)\n"
      ],
      "metadata": {
        "colab": {
          "base_uri": "https://localhost:8080/"
        },
        "id": "DnDKNMfNOHR5",
        "outputId": "b299f79e-0532-463f-9d09-aadcfe3d31e6"
      },
      "execution_count": 171,
      "outputs": [
        {
          "output_type": "stream",
          "name": "stdout",
          "text": [
            "1\n",
            "01\n",
            "101\n",
            "0101\n",
            "10101\n"
          ]
        }
      ]
    },
    {
      "cell_type": "code",
      "source": [
        "def f(n):\n",
        "    for i in range(1, n+1):\n",
        "        for j in range(1, n+1):\n",
        "            if (i + j) % 2 == 0:\n",
        "                print(\"1\", end=\"\")\n",
        "            else:\n",
        "                print(\"0\", end=\"\")\n",
        "        print()\n",
        "f(5)"
      ],
      "metadata": {
        "colab": {
          "base_uri": "https://localhost:8080/"
        },
        "id": "BZcXZFoQPm4-",
        "outputId": "e5045c71-f13d-4381-b1cd-fa4fc4b72e5a"
      },
      "execution_count": 172,
      "outputs": [
        {
          "output_type": "stream",
          "name": "stdout",
          "text": [
            "10101\n",
            "01010\n",
            "10101\n",
            "01010\n",
            "10101\n"
          ]
        }
      ]
    },
    {
      "cell_type": "code",
      "source": [
        "def f(n):\n",
        "    for i in range(n,-1,-1):\n",
        "        for j in range(1, i+1):\n",
        "            if (i + j) % 2 == 0:\n",
        "                print(\"1\", end=\" \")\n",
        "            else:\n",
        "                print(\"0\", end=\" \")\n",
        "        print()\n",
        "f(5)\n"
      ],
      "metadata": {
        "colab": {
          "base_uri": "https://localhost:8080/"
        },
        "id": "orPX3bVzP4Oa",
        "outputId": "f0c76906-5d0c-4a2b-ad05-991a364ac2cb"
      },
      "execution_count": 180,
      "outputs": [
        {
          "output_type": "stream",
          "name": "stdout",
          "text": [
            "1 0 1 0 1 \n",
            "0 1 0 1 \n",
            "1 0 1 \n",
            "0 1 \n",
            "1 \n",
            "\n"
          ]
        }
      ]
    },
    {
      "cell_type": "code",
      "source": [
        "def f(n):\n",
        "    for i in range(n,-1,-1):\n",
        "        for j in range(1, i+1):\n",
        "            if (i + j) % 2 == 0:\n",
        "                print(\"0\", end=\" \")\n",
        "            else:\n",
        "                print(\"1\", end=\" \")\n",
        "        print()\n",
        "f(5)"
      ],
      "metadata": {
        "colab": {
          "base_uri": "https://localhost:8080/"
        },
        "id": "PJolql9rQA9W",
        "outputId": "124bf325-d1a6-4339-b83b-52bd3c2d248c"
      },
      "execution_count": 179,
      "outputs": [
        {
          "output_type": "stream",
          "name": "stdout",
          "text": [
            "0 1 0 1 0 \n",
            "1 0 1 0 \n",
            "0 1 0 \n",
            "1 0 \n",
            "0 \n",
            "\n"
          ]
        }
      ]
    },
    {
      "cell_type": "code",
      "source": [
        "def f(n):\n",
        "    x= 1\n",
        "    for i in range(1, n+1):\n",
        "        for j in range(1, i+1):\n",
        "            print(x, end=\"  \")\n",
        "            x+= 1\n",
        "        print()\n",
        "f(5)"
      ],
      "metadata": {
        "colab": {
          "base_uri": "https://localhost:8080/"
        },
        "id": "7AxDR1zMVqLY",
        "outputId": "5a059857-890c-4d92-c3d7-f85781b0b290"
      },
      "execution_count": 228,
      "outputs": [
        {
          "output_type": "stream",
          "name": "stdout",
          "text": [
            "1  \n",
            "2  3  \n",
            "4  5  6  \n",
            "7  8  9  10  \n",
            "11  12  13  14  15  \n"
          ]
        }
      ]
    },
    {
      "cell_type": "code",
      "source": [
        "def f(n):\n",
        "    for i in range(n):\n",
        "        for j in range(i+1):\n",
        "            print(chr(j + 97), end=\" \")\n",
        "        print()\n",
        "f(7)\n"
      ],
      "metadata": {
        "colab": {
          "base_uri": "https://localhost:8080/"
        },
        "id": "uz2TwIuSWZuP",
        "outputId": "ced2de26-e1b7-4ef4-a8f3-a78582ba9110"
      },
      "execution_count": 238,
      "outputs": [
        {
          "output_type": "stream",
          "name": "stdout",
          "text": [
            "a \n",
            "a b \n",
            "a b c \n",
            "a b c d \n",
            "a b c d e \n",
            "a b c d e f \n",
            "a b c d e f g \n"
          ]
        }
      ]
    },
    {
      "cell_type": "code",
      "source": [
        "def f(n):\n",
        "  for i in range(n-1,-1,-1):\n",
        "    for j in range(i+1):\n",
        "      print(chr(j+97),end=\" \")\n",
        "    print()\n",
        "f(7)"
      ],
      "metadata": {
        "colab": {
          "base_uri": "https://localhost:8080/"
        },
        "id": "ZiOCmj7AZQhp",
        "outputId": "c3b2c319-b949-450b-e690-bded57db7d1b"
      },
      "execution_count": 242,
      "outputs": [
        {
          "output_type": "stream",
          "name": "stdout",
          "text": [
            "a b c d e f g \n",
            "a b c d e f \n",
            "a b c d e \n",
            "a b c d \n",
            "a b c \n",
            "a b \n",
            "a \n"
          ]
        }
      ]
    },
    {
      "cell_type": "code",
      "source": [
        "def f(n):\n",
        "    for i in range(n):\n",
        "        for j in range(i+1):\n",
        "            print(chr(j+65), end=\" \")\n",
        "        print()\n",
        "f(7)\n"
      ],
      "metadata": {
        "colab": {
          "base_uri": "https://localhost:8080/"
        },
        "id": "quYj-ORBYRgh",
        "outputId": "059991d6-ad79-4aee-c7a4-84495c4d1048"
      },
      "execution_count": 239,
      "outputs": [
        {
          "output_type": "stream",
          "name": "stdout",
          "text": [
            "A \n",
            "A B \n",
            "A B C \n",
            "A B C D \n",
            "A B C D E \n",
            "A B C D E F \n",
            "A B C D E F G \n"
          ]
        }
      ]
    },
    {
      "cell_type": "code",
      "source": [
        "def f(n):\n",
        "  for i in range(n-1,-1,-1):\n",
        "    for j in range(i+1):\n",
        "      print(chr(j+65),end=\" \")\n",
        "    print()\n",
        "f(7)"
      ],
      "metadata": {
        "colab": {
          "base_uri": "https://localhost:8080/"
        },
        "id": "w01RckuhYshA",
        "outputId": "47daeb62-9088-4f17-9bae-a09b6a96efdc"
      },
      "execution_count": 243,
      "outputs": [
        {
          "output_type": "stream",
          "name": "stdout",
          "text": [
            "A B C D E F G \n",
            "A B C D E F \n",
            "A B C D E \n",
            "A B C D \n",
            "A B C \n",
            "A B \n",
            "A \n"
          ]
        }
      ]
    },
    {
      "cell_type": "code",
      "source": [
        "def f(n):\n",
        "  x=97\n",
        "  for i in range(n):\n",
        "    for j in range(i+1):\n",
        "      print(chr(x+i),end=\" \")\n",
        "    print()\n",
        "f(7)"
      ],
      "metadata": {
        "colab": {
          "base_uri": "https://localhost:8080/"
        },
        "id": "JkyAm8pBZkgr",
        "outputId": "25b0df8f-b642-4bb9-a185-c674ed2cfbb2"
      },
      "execution_count": 249,
      "outputs": [
        {
          "output_type": "stream",
          "name": "stdout",
          "text": [
            "a \n",
            "b b \n",
            "c c c \n",
            "d d d d \n",
            "e e e e e \n",
            "f f f f f f \n",
            "g g g g g g g \n"
          ]
        }
      ]
    },
    {
      "cell_type": "code",
      "source": [
        "def f(n):\n",
        "  x=65\n",
        "  for i in range(n):\n",
        "    for j in range(i+1):\n",
        "      print(chr(x+i),end=\" \")\n",
        "    print()\n",
        "f(7)"
      ],
      "metadata": {
        "colab": {
          "base_uri": "https://localhost:8080/"
        },
        "id": "5MuslQOpZwEN",
        "outputId": "d6f6d3d4-2f25-4c21-b47d-c4f253aa322d"
      },
      "execution_count": 250,
      "outputs": [
        {
          "output_type": "stream",
          "name": "stdout",
          "text": [
            "A \n",
            "B B \n",
            "C C C \n",
            "D D D D \n",
            "E E E E E \n",
            "F F F F F F \n",
            "G G G G G G G \n"
          ]
        }
      ]
    },
    {
      "cell_type": "code",
      "source": [
        "def f(n):\n",
        "  for i in range(n):\n",
        "    for j in range(n):\n",
        "      if i==j or i<=j:\n",
        "        print(\"*\",end=\"\")\n",
        "    print()"
      ],
      "metadata": {
        "id": "EpccOoeNaZLo"
      },
      "execution_count": 251,
      "outputs": []
    },
    {
      "cell_type": "code",
      "source": [
        "f(8)"
      ],
      "metadata": {
        "colab": {
          "base_uri": "https://localhost:8080/"
        },
        "id": "HCpuTxSLa9VQ",
        "outputId": "b101a0ac-ba1b-4b43-efb1-55ba31601edd"
      },
      "execution_count": 252,
      "outputs": [
        {
          "output_type": "stream",
          "name": "stdout",
          "text": [
            "********\n",
            "*******\n",
            "******\n",
            "*****\n",
            "****\n",
            "***\n",
            "**\n",
            "*\n"
          ]
        }
      ]
    },
    {
      "cell_type": "code",
      "source": [
        "def f(n):\n",
        "  for i in range(n):\n",
        "    for j in range(n):\n",
        "      if i==j or i>=j:\n",
        "        print(\"*\",end=\"\")\n",
        "    print()\n",
        "f(8)"
      ],
      "metadata": {
        "colab": {
          "base_uri": "https://localhost:8080/"
        },
        "id": "UkkWog0Pa-Zz",
        "outputId": "9861d574-ff56-434f-b34b-dcf489f97d15"
      },
      "execution_count": 254,
      "outputs": [
        {
          "output_type": "stream",
          "name": "stdout",
          "text": [
            "*\n",
            "**\n",
            "***\n",
            "****\n",
            "*****\n",
            "******\n",
            "*******\n",
            "********\n"
          ]
        }
      ]
    },
    {
      "cell_type": "code",
      "source": [
        "def f(n):\n",
        "  for i in range(n):\n",
        "    for j in range(n):\n",
        "      if i==j or i<=j:\n",
        "        print(i,end=\"\")\n",
        "    print()\n",
        "f(7)"
      ],
      "metadata": {
        "colab": {
          "base_uri": "https://localhost:8080/"
        },
        "id": "xHPpr9ofbT5g",
        "outputId": "0cf38fa2-2c7f-4b2a-ada4-82fdd30aadbd"
      },
      "execution_count": 256,
      "outputs": [
        {
          "output_type": "stream",
          "name": "stdout",
          "text": [
            "0000000\n",
            "111111\n",
            "22222\n",
            "3333\n",
            "444\n",
            "55\n",
            "6\n"
          ]
        }
      ]
    },
    {
      "cell_type": "code",
      "source": [
        "def f(n):\n",
        "  for i in range(n):\n",
        "    for j in range(n):\n",
        "      if i==j or i<=j:\n",
        "        print(j,end=\"\")\n",
        "    print()\n",
        "f(7)"
      ],
      "metadata": {
        "colab": {
          "base_uri": "https://localhost:8080/"
        },
        "id": "VFu7SNmqbZbt",
        "outputId": "a254582b-df47-4c85-b120-94f1fadd4529"
      },
      "execution_count": 258,
      "outputs": [
        {
          "output_type": "stream",
          "name": "stdout",
          "text": [
            "0123456\n",
            "123456\n",
            "23456\n",
            "3456\n",
            "456\n",
            "56\n",
            "6\n"
          ]
        }
      ]
    },
    {
      "cell_type": "code",
      "source": [
        "def f(n):\n",
        "  for i in range(n):\n",
        "    for j in range(i+1):\n",
        "      if i==j:\n",
        "        print(\"*\",end=\" \")\n",
        "      else:\n",
        "        print(\" \",end=\"\")\n",
        "    print()\n",
        "f(7)"
      ],
      "metadata": {
        "colab": {
          "base_uri": "https://localhost:8080/"
        },
        "id": "5ImqtzKtbhpF",
        "outputId": "655f1b1f-1016-450a-f36f-c9a4446fdaeb"
      },
      "execution_count": 270,
      "outputs": [
        {
          "output_type": "stream",
          "name": "stdout",
          "text": [
            "* \n",
            " * \n",
            "  * \n",
            "   * \n",
            "    * \n",
            "     * \n",
            "      * \n"
          ]
        }
      ]
    },
    {
      "cell_type": "code",
      "source": [
        "def f(n):\n",
        "  for i in range(n):\n",
        "    for j in range(i+1):\n",
        "      if i==j:\n",
        "        print(i,end=\" \")\n",
        "      else:\n",
        "        print(\" \",end=\"\")\n",
        "    print()\n",
        "f(7)"
      ],
      "metadata": {
        "colab": {
          "base_uri": "https://localhost:8080/"
        },
        "id": "AD7CCludbkwp",
        "outputId": "8b8a415c-c47a-4c4c-dadc-bf1c8bc72ec0"
      },
      "execution_count": 271,
      "outputs": [
        {
          "output_type": "stream",
          "name": "stdout",
          "text": [
            "0 \n",
            " 1 \n",
            "  2 \n",
            "   3 \n",
            "    4 \n",
            "     5 \n",
            "      6 \n"
          ]
        }
      ]
    },
    {
      "cell_type": "code",
      "source": [
        "def f(n):\n",
        "  for i in range(n):\n",
        "    for j in range(n):\n",
        "      if i<=j:\n",
        "        print(\"*\",end=\" \")\n",
        "      else:\n",
        "        print(\" \",end=\"\")\n",
        "    print()\n",
        "f(8)"
      ],
      "metadata": {
        "colab": {
          "base_uri": "https://localhost:8080/"
        },
        "id": "CAUZOR_tcaT-",
        "outputId": "bc8c029f-2906-4123-f522-4549f05dd7ae"
      },
      "execution_count": 282,
      "outputs": [
        {
          "output_type": "stream",
          "name": "stdout",
          "text": [
            "* * * * * * * * \n",
            " * * * * * * * \n",
            "  * * * * * * \n",
            "   * * * * * \n",
            "    * * * * \n",
            "     * * * \n",
            "      * * \n",
            "       * \n"
          ]
        }
      ]
    },
    {
      "cell_type": "code",
      "source": [
        "def f(n):\n",
        "  for i in range(n):\n",
        "    for j in range(n):\n",
        "      if i<=j:\n",
        "        print(i,end=\" \")\n",
        "      else:\n",
        "        print(\" \",end=\"\")\n",
        "    print()\n",
        "f(8)"
      ],
      "metadata": {
        "colab": {
          "base_uri": "https://localhost:8080/"
        },
        "id": "MMm253QtcczV",
        "outputId": "216c7822-8de5-4765-ed05-ba5695ec856f"
      },
      "execution_count": 283,
      "outputs": [
        {
          "output_type": "stream",
          "name": "stdout",
          "text": [
            "0 0 0 0 0 0 0 0 \n",
            " 1 1 1 1 1 1 1 \n",
            "  2 2 2 2 2 2 \n",
            "   3 3 3 3 3 \n",
            "    4 4 4 4 \n",
            "     5 5 5 \n",
            "      6 6 \n",
            "       7 \n"
          ]
        }
      ]
    },
    {
      "cell_type": "code",
      "source": [
        "def f(n):\n",
        "  for i in range(n):\n",
        "    for j in range(n):\n",
        "      if i<=j:\n",
        "        print(j,end=\" \")\n",
        "      else:\n",
        "        print(\" \",end=\"\")\n",
        "    print()\n",
        "f(8)"
      ],
      "metadata": {
        "colab": {
          "base_uri": "https://localhost:8080/"
        },
        "id": "4WOqSr7udXsB",
        "outputId": "2b21711a-e0b3-4dc5-a3a5-e92b4f51f13b"
      },
      "execution_count": 284,
      "outputs": [
        {
          "output_type": "stream",
          "name": "stdout",
          "text": [
            "0 1 2 3 4 5 6 7 \n",
            " 1 2 3 4 5 6 7 \n",
            "  2 3 4 5 6 7 \n",
            "   3 4 5 6 7 \n",
            "    4 5 6 7 \n",
            "     5 6 7 \n",
            "      6 7 \n",
            "       7 \n"
          ]
        }
      ]
    },
    {
      "cell_type": "code",
      "source": [
        "def f(n):\n",
        "  for i in range(n):\n",
        "    for j in range(n):\n",
        "      if j==n-i:\n",
        "        print(\"*\",end=\" \")\n",
        "      else:\n",
        "        print(\" \",end=\" \")\n",
        "    print()\n",
        "f(8)"
      ],
      "metadata": {
        "colab": {
          "base_uri": "https://localhost:8080/"
        },
        "id": "D22awB5gdaqh",
        "outputId": "db242cca-d5e7-4761-c786-6945b653a10b"
      },
      "execution_count": 287,
      "outputs": [
        {
          "output_type": "stream",
          "name": "stdout",
          "text": [
            "                \n",
            "              * \n",
            "            *   \n",
            "          *     \n",
            "        *       \n",
            "      *         \n",
            "    *           \n",
            "  *             \n"
          ]
        }
      ]
    },
    {
      "cell_type": "code",
      "source": [
        "def f(n):\n",
        "  for i in range(n):\n",
        "    for j in range(n):\n",
        "      if j==n-i:\n",
        "        print(i,end=\" \")\n",
        "      else:\n",
        "        print(\" \",end=\" \")\n",
        "    print()\n",
        "f(8)"
      ],
      "metadata": {
        "colab": {
          "base_uri": "https://localhost:8080/"
        },
        "id": "r_IYmCoYdnX7",
        "outputId": "52001639-c979-47c6-e75d-50bb2142b6b2"
      },
      "execution_count": 288,
      "outputs": [
        {
          "output_type": "stream",
          "name": "stdout",
          "text": [
            "                \n",
            "              1 \n",
            "            2   \n",
            "          3     \n",
            "        4       \n",
            "      5         \n",
            "    6           \n",
            "  7             \n"
          ]
        }
      ]
    },
    {
      "cell_type": "code",
      "source": [
        "def f(n):\n",
        "  for i in range(n):\n",
        "    for j in range(n):\n",
        "      if j==n-i:\n",
        "        print(j,end=\" \")\n",
        "      else:\n",
        "        print(\" \",end=\" \")\n",
        "    print()\n",
        "f(8)"
      ],
      "metadata": {
        "colab": {
          "base_uri": "https://localhost:8080/"
        },
        "id": "t5D-ueqIduD3",
        "outputId": "daf3f984-3a8b-43a8-c97a-26747d8ee32e"
      },
      "execution_count": 290,
      "outputs": [
        {
          "output_type": "stream",
          "name": "stdout",
          "text": [
            "                \n",
            "              7 \n",
            "            6   \n",
            "          5     \n",
            "        4       \n",
            "      3         \n",
            "    2           \n",
            "  1             \n"
          ]
        }
      ]
    },
    {
      "cell_type": "code",
      "source": [
        "def f(n):\n",
        "  for i in range(n):\n",
        "    for j in range(n):\n",
        "      if i==0 or j==0 or j==n-1 or i==n-1:\n",
        "        print(\"*\",end=\" \")\n",
        "      else:\n",
        "        print(\" \",end=\" \")\n",
        "    print()\n",
        "f(8)"
      ],
      "metadata": {
        "colab": {
          "base_uri": "https://localhost:8080/"
        },
        "id": "T-z6nBcOdx0t",
        "outputId": "01967675-88e3-47d9-bb96-afb932d5fe60"
      },
      "execution_count": 295,
      "outputs": [
        {
          "output_type": "stream",
          "name": "stdout",
          "text": [
            "* * * * * * * * \n",
            "*             * \n",
            "*             * \n",
            "*             * \n",
            "*             * \n",
            "*             * \n",
            "*             * \n",
            "* * * * * * * * \n"
          ]
        }
      ]
    },
    {
      "cell_type": "code",
      "source": [
        "def f(n):\n",
        "  for i in range(n):\n",
        "    for j in range(n):\n",
        "      if i==0 or j==0 or j==n-1 or i==n-1:\n",
        "        print(i,end=\" \")\n",
        "      else:\n",
        "        print(\" \",end=\" \")\n",
        "    print()\n",
        "f(8)"
      ],
      "metadata": {
        "colab": {
          "base_uri": "https://localhost:8080/"
        },
        "id": "cwzmxpccerBW",
        "outputId": "dba6367c-565c-4f45-e373-818d66d6da94"
      },
      "execution_count": 297,
      "outputs": [
        {
          "output_type": "stream",
          "name": "stdout",
          "text": [
            "0 0 0 0 0 0 0 0 \n",
            "1             1 \n",
            "2             2 \n",
            "3             3 \n",
            "4             4 \n",
            "5             5 \n",
            "6             6 \n",
            "7 7 7 7 7 7 7 7 \n"
          ]
        }
      ]
    },
    {
      "cell_type": "code",
      "source": [
        "def f(n):\n",
        "  for i in range(n):\n",
        "    for j in range(n):\n",
        "      if i==0 or j==0 or j==n-1 or i==n-1:\n",
        "        print(j,end=\" \")\n",
        "      else:\n",
        "        print(\" \",end=\" \")\n",
        "    print()\n",
        "f(8)"
      ],
      "metadata": {
        "colab": {
          "base_uri": "https://localhost:8080/"
        },
        "id": "RXYLsyLHev69",
        "outputId": "2460eb4f-18a2-4d7b-972d-e7cd26d8cf63"
      },
      "execution_count": 298,
      "outputs": [
        {
          "output_type": "stream",
          "name": "stdout",
          "text": [
            "0 1 2 3 4 5 6 7 \n",
            "0             7 \n",
            "0             7 \n",
            "0             7 \n",
            "0             7 \n",
            "0             7 \n",
            "0             7 \n",
            "0 1 2 3 4 5 6 7 \n"
          ]
        }
      ]
    },
    {
      "cell_type": "code",
      "source": [
        "def f(n):\n",
        "  for i in range(n):\n",
        "    for j in range(n):\n",
        "      if i==0 or j==0 or j==n-1 or i==n-1 or i==j:\n",
        "        print(\"*\",end=\" \")\n",
        "      else:\n",
        "        print(\" \",end=\" \")\n",
        "    print()\n",
        "f(8)"
      ],
      "metadata": {
        "colab": {
          "base_uri": "https://localhost:8080/"
        },
        "id": "FsYmhI7meSnm",
        "outputId": "058faaef-4972-46ec-b139-2e1b99a49df0"
      },
      "execution_count": 296,
      "outputs": [
        {
          "output_type": "stream",
          "name": "stdout",
          "text": [
            "* * * * * * * * \n",
            "* *           * \n",
            "*   *         * \n",
            "*     *       * \n",
            "*       *     * \n",
            "*         *   * \n",
            "*           * * \n",
            "* * * * * * * * \n"
          ]
        }
      ]
    },
    {
      "cell_type": "code",
      "source": [
        "def f(n):\n",
        "  for i in range(n):\n",
        "    for j in range(n):\n",
        "      if i==0 or j==0 or j==n-1 or i==n-1 or i==j:\n",
        "        print(i,end=\" \")\n",
        "      else:\n",
        "        print(\" \",end=\" \")\n",
        "    print()\n",
        "f(8)"
      ],
      "metadata": {
        "colab": {
          "base_uri": "https://localhost:8080/"
        },
        "id": "24Kv_XSPemvL",
        "outputId": "7374412f-f347-4371-990a-6bcb1bfebad6"
      },
      "execution_count": 299,
      "outputs": [
        {
          "output_type": "stream",
          "name": "stdout",
          "text": [
            "0 0 0 0 0 0 0 0 \n",
            "1 1           1 \n",
            "2   2         2 \n",
            "3     3       3 \n",
            "4       4     4 \n",
            "5         5   5 \n",
            "6           6 6 \n",
            "7 7 7 7 7 7 7 7 \n"
          ]
        }
      ]
    },
    {
      "cell_type": "code",
      "source": [
        "def f(n):\n",
        "  for i in range(n):\n",
        "    for j in range(n):\n",
        "      if i==0 or j==0 or j==n-1 or i==n-1 or i==j:\n",
        "        print(j,end=\" \")\n",
        "      else:\n",
        "        print(\" \",end=\" \")\n",
        "    print()\n",
        "f(8)"
      ],
      "metadata": {
        "colab": {
          "base_uri": "https://localhost:8080/"
        },
        "id": "ySKrdbyxe2hE",
        "outputId": "4872d6f3-f8c4-4e87-8437-8204397cf778"
      },
      "execution_count": 300,
      "outputs": [
        {
          "output_type": "stream",
          "name": "stdout",
          "text": [
            "0 1 2 3 4 5 6 7 \n",
            "0 1           7 \n",
            "0   2         7 \n",
            "0     3       7 \n",
            "0       4     7 \n",
            "0         5   7 \n",
            "0           6 7 \n",
            "0 1 2 3 4 5 6 7 \n"
          ]
        }
      ]
    },
    {
      "cell_type": "code",
      "source": [
        "def f(n):\n",
        "  for i in range(n):\n",
        "    for j in range(n):\n",
        "      if i==0 or j==0 or j==n-1 or i==n-1 or i==j or j==n-i-1:\n",
        "        print(\"*\",end=\" \")\n",
        "      else:\n",
        "        print(\" \",end=\" \")\n",
        "    print()\n",
        "f(8)"
      ],
      "metadata": {
        "colab": {
          "base_uri": "https://localhost:8080/"
        },
        "id": "4zPE2X4Be6Un",
        "outputId": "614ed0b5-e1d5-4bc9-dba0-ec7584b6ecf9"
      },
      "execution_count": 302,
      "outputs": [
        {
          "output_type": "stream",
          "name": "stdout",
          "text": [
            "* * * * * * * * \n",
            "* *         * * \n",
            "*   *     *   * \n",
            "*     * *     * \n",
            "*     * *     * \n",
            "*   *     *   * \n",
            "* *         * * \n",
            "* * * * * * * * \n"
          ]
        }
      ]
    },
    {
      "cell_type": "code",
      "source": [
        "def f(n):\n",
        "  for i in range(n):\n",
        "    for j in range(n):\n",
        "      if i==0 or j==0 or j==n-1 or i==n-1 or i==j or j==n-i-1:\n",
        "        print(i,end=\" \")\n",
        "      else:\n",
        "        print(\" \",end=\" \")\n",
        "    print()\n",
        "f(8)"
      ],
      "metadata": {
        "colab": {
          "base_uri": "https://localhost:8080/"
        },
        "id": "vVB3F-nmfIfY",
        "outputId": "fa0c2a5d-4018-4d38-d93d-ef5559592054"
      },
      "execution_count": 303,
      "outputs": [
        {
          "output_type": "stream",
          "name": "stdout",
          "text": [
            "0 0 0 0 0 0 0 0 \n",
            "1 1         1 1 \n",
            "2   2     2   2 \n",
            "3     3 3     3 \n",
            "4     4 4     4 \n",
            "5   5     5   5 \n",
            "6 6         6 6 \n",
            "7 7 7 7 7 7 7 7 \n"
          ]
        }
      ]
    },
    {
      "cell_type": "code",
      "source": [
        "def f(n):\n",
        "  for i in range(n):\n",
        "    for j in range(n):\n",
        "      if i==0 or j==0 or j==n-1 or i==n-1 or i==j or j==n-i-1:\n",
        "        print(j,end=\" \")\n",
        "      else:\n",
        "        print(\" \",end=\" \")\n",
        "    print()\n",
        "f(8)"
      ],
      "metadata": {
        "colab": {
          "base_uri": "https://localhost:8080/"
        },
        "id": "Fa4biv0TfPPd",
        "outputId": "bfaa425d-2cc0-4aca-fc19-41e1a2b38012"
      },
      "execution_count": 304,
      "outputs": [
        {
          "output_type": "stream",
          "name": "stdout",
          "text": [
            "0 1 2 3 4 5 6 7 \n",
            "0 1         6 7 \n",
            "0   2     5   7 \n",
            "0     3 4     7 \n",
            "0     3 4     7 \n",
            "0   2     5   7 \n",
            "0 1         6 7 \n",
            "0 1 2 3 4 5 6 7 \n"
          ]
        }
      ]
    },
    {
      "cell_type": "code",
      "source": [],
      "metadata": {
        "id": "AAkFgNsefVCf"
      },
      "execution_count": null,
      "outputs": []
    }
  ]
}